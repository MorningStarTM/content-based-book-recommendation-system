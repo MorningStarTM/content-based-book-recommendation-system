{
 "cells": [
  {
   "cell_type": "code",
   "execution_count": 2,
   "metadata": {},
   "outputs": [],
   "source": [
    "import pandas as pd"
   ]
  },
  {
   "cell_type": "code",
   "execution_count": 3,
   "metadata": {},
   "outputs": [],
   "source": [
    "#similarity data\n",
    "similarity_df = pd.read_csv(\"../data/similarity_books.csv\")"
   ]
  },
  {
   "cell_type": "code",
   "execution_count": 4,
   "metadata": {},
   "outputs": [],
   "source": [
    "#read books data\n",
    "df = pd.read_csv(\"./books.csv\")"
   ]
  },
  {
   "cell_type": "code",
   "execution_count": 5,
   "metadata": {},
   "outputs": [],
   "source": [
    "#find the index of title\n",
    "def get_index(title):\n",
    "  return df[df.title == title].index.values[0]    "
   ]
  },
  {
   "cell_type": "code",
   "execution_count": 6,
   "metadata": {},
   "outputs": [
    {
     "data": {
      "text/plain": [
       "2661"
      ]
     },
     "execution_count": 6,
     "metadata": {},
     "output_type": "execute_result"
    }
   ],
   "source": [
    "#get the book's ID\n",
    "book_id = get_index(\"Harry Potter and the Chamber of Secrets (Book 2)\")\n",
    "book_id"
   ]
  },
  {
   "cell_type": "code",
   "execution_count": 11,
   "metadata": {},
   "outputs": [],
   "source": [
    "#find the similar value \n",
    "similar_books = list(enumerate(similarity_df[str(book_id)]))\n",
    "sorted_books = sorted(similar_books,key=lambda x:x[1],reverse=True)"
   ]
  },
  {
   "cell_type": "code",
   "execution_count": 12,
   "metadata": {},
   "outputs": [
    {
     "name": "stdout",
     "output_type": "stream",
     "text": [
      "Harry Potter and the Chamber of Secrets (Book 2)\n",
      "Harry Potter and the Sorcerer's Stone (Book 1)\n",
      "Harry Potter and the Half-Blood Prince (Book 6)\n",
      "Harry Potter and the Chamber of Secrets\n",
      "Harry Potter and the Prisoner of Azkaban (Book 3)\n",
      "Harry Potter and the Order of the Phoenix (Book 5)\n",
      "Angel Fire East\n",
      "Vampire Hunter D Volume 3: Demon Deathase\n",
      "Survivor's Quest\n",
      "Harry Potter and the Prisoner of Azkaban\n",
      "Diary of a Spider\n",
      "Big Money\n",
      "The Art of Loving\n",
      "Invisible\n",
      "The Percy Jackson and the Olympians, Book Three: Titan's Curse\n",
      "I Ching, Or, Book of Changes\n",
      "Of Mice and Men\n",
      "Wolfskin\n",
      "Betsy-Tacy\n",
      "Man and Wife\n"
     ]
    }
   ],
   "source": [
    "for i in range(20):\n",
    "  print(df[df.index == sorted_books[i][0]][\"title\"].values[0])  "
   ]
  },
  {
   "cell_type": "code",
   "execution_count": null,
   "metadata": {},
   "outputs": [],
   "source": []
  }
 ],
 "metadata": {
  "kernelspec": {
   "display_name": "environment_1",
   "language": "python",
   "name": "python3"
  },
  "language_info": {
   "codemirror_mode": {
    "name": "ipython",
    "version": 3
   },
   "file_extension": ".py",
   "mimetype": "text/x-python",
   "name": "python",
   "nbconvert_exporter": "python",
   "pygments_lexer": "ipython3",
   "version": "3.8.15"
  },
  "orig_nbformat": 4,
  "vscode": {
   "interpreter": {
    "hash": "0b778f98153833a34c3ea8ba51064b6a8427692c2a3735102839451caad10934"
   }
  }
 },
 "nbformat": 4,
 "nbformat_minor": 2
}
